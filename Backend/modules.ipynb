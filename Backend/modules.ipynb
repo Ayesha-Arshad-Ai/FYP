{
 "cells": [
  {
   "cell_type": "code",
   "execution_count": 1,
   "outputs": [],
   "source": [
    "import io\n",
    "import base64\n",
    "from PIL import Image\n",
    "from malay.config import settings\n",
    "from google import genai\n",
    "from google.genai import types\n",
    "# initialize the Gemini client\n",
    "client = genai.Client(api_key=settings.gemini_api)"
   ],
   "metadata": {
    "collapsed": false,
    "ExecuteTime": {
     "end_time": "2025-04-25T18:28:55.385589819Z",
     "start_time": "2025-04-25T18:28:53.286850667Z"
    }
   },
   "id": "95628b85db9e7bef"
  },
  {
   "cell_type": "code",
   "execution_count": 12,
   "outputs": [
    {
     "name": "stdout",
     "output_type": "stream",
     "text": [
      "Saved image to professional_best_design.png\n"
     ]
    }
   ],
   "source": [
    "\n",
    "\n",
    "# load your source image\n",
    "product = Image.open('professional_best_design.png')\n",
    "\n",
    "# generate content\n",
    "response = client.models.generate_content(\n",
    "    model=\"gemini-2.0-flash-exp\",\n",
    "    contents=[\n",
    "        # first element: a text prompt\n",
    "        \"\"\"create a image that is provided you from cyber bulying content and just remove remove the cyber bulying content from image just and dont need to change the image anything else\"\"\",\n",
    "        # second element: the image bytes\n",
    "        product\n",
    "    ],\n",
    "    config=types.GenerateContentConfig(\n",
    "        response_modalities=[\"Text\", \"Image\"]\n",
    "    ),\n",
    ")\n",
    "\n",
    "\n",
    "def save_image(response, path):\n",
    "    # loop through the returned parts\n",
    "    for part in response.candidates[0].content.parts:\n",
    "        if part.inline_data is not None:\n",
    "            data = part.inline_data.data\n",
    "            # decode if it's base64-encoded\n",
    "            if isinstance(data, str):\n",
    "                data = base64.b64decode(data)\n",
    "            img = Image.open(io.BytesIO(data))\n",
    "            img.save(path, format=\"PNG\")\n",
    "            print(f\"Saved image to {path}\")\n",
    "        elif part.text is not None:\n",
    "            print(\"Text response:\", part.text)\n",
    "\n",
    "# finally, save out the generated image\n",
    "save_image(response, 'professional_best_design.png')\n"
   ],
   "metadata": {
    "collapsed": false,
    "ExecuteTime": {
     "end_time": "2025-04-25T12:30:20.573213875Z",
     "start_time": "2025-04-25T12:30:14.600300794Z"
    }
   },
   "id": "e76a17c6c81c535"
  },
  {
   "cell_type": "code",
   "execution_count": 9,
   "outputs": [
    {
     "name": "stdout",
     "output_type": "stream",
     "text": [
      "{\n",
      "\"text\": \"Love Story:\\ni love you but i will  today and i will kiss you and then we will take bath togather and then dinner togather in best restaurant\"\n",
      "}\n"
     ]
    }
   ],
   "source": [
    "text = '''\n",
    "Fucking Love Story:\n",
    "i love you but i will fuck today and i will kiss you and then we will take bath togather and then dinner togather in best restaurant'''\n",
    "\n",
    "prompt = f\"\"\"You are an expert agent to analyze the provide to remove the allcyberbulying words and if there is no cyer bullying words then dont need tochange \n",
    "Changing Text:\n",
    "{text}\n",
    "Generate the output according to provided format in json format:\n",
    "{{'text': write text here changing text}}\n",
    "\n",
    "\"\"\"\n",
    "response = client.models.generate_content(\n",
    "            model='gemini-2.0-flash',\n",
    "            contents=prompt,\n",
    "            config={\n",
    "                'response_mime_type': 'application/json'\n",
    "            }\n",
    "        )\n",
    "\n",
    "print(response.text)"
   ],
   "metadata": {
    "collapsed": false,
    "ExecuteTime": {
     "end_time": "2025-04-25T12:26:23.176135468Z",
     "start_time": "2025-04-25T12:26:22.471832148Z"
    }
   },
   "id": "398327e17fa00cbe"
  },
  {
   "cell_type": "code",
   "execution_count": 3,
   "outputs": [
    {
     "name": "stdout",
     "output_type": "stream",
     "text": [
      "{\n",
      "\"cyberbulying\": \"yes\",\n",
      "\"suggestion\": \"Avoid using offensive language to prevent cyberbullying incidents online.\",\n",
      "\"cyberbulying_type\": \"Harassment\"\n",
      "}\n"
     ]
    }
   ],
   "source": [
    "img = Image.open('/home/hasnain/Pictures/Screenshots/Screenshot from 2025-04-25 17-03-59.png')\n",
    "text = ''\n",
    "\n",
    "prompt = f\"\"\"You are an expert agent to analyze the provide to provided if there is any cyber bulying then answer yes in output if there is not cyber bulying then answer no and also detect the cyberbulying from the provided text\n",
    "Text:\n",
    "{text}\n",
    "\n",
    "Generate the output according to provided format in json format:\n",
    "{{'cyberbulying': write yes if cyberberbulying other no,\n",
    "\"suggestion\": write suggestion 10 words,\n",
    "\"cyberbulying_type\": classify cuberbulying in one word only\n",
    "}}\n",
    "\n",
    "\"\"\"\n",
    "response = client.models.generate_content(\n",
    "            model='gemini-2.0-flash',\n",
    "            contents=[prompt, img],\n",
    "            config={\n",
    "                'response_mime_type': 'application/json'\n",
    "            }\n",
    "        )\n",
    "\n",
    "print(response.text)"
   ],
   "metadata": {
    "collapsed": false,
    "ExecuteTime": {
     "end_time": "2025-04-25T18:29:29.930267885Z",
     "start_time": "2025-04-25T18:29:27.407820794Z"
    }
   },
   "id": "4bafa732793362"
  },
  {
   "cell_type": "code",
   "execution_count": null,
   "outputs": [],
   "source": [],
   "metadata": {
    "collapsed": false
   },
   "id": "8faa106d5b433025"
  }
 ],
 "metadata": {
  "kernelspec": {
   "display_name": "Python 3",
   "language": "python",
   "name": "python3"
  },
  "language_info": {
   "codemirror_mode": {
    "name": "ipython",
    "version": 2
   },
   "file_extension": ".py",
   "mimetype": "text/x-python",
   "name": "python",
   "nbconvert_exporter": "python",
   "pygments_lexer": "ipython2",
   "version": "2.7.6"
  }
 },
 "nbformat": 4,
 "nbformat_minor": 5
}
